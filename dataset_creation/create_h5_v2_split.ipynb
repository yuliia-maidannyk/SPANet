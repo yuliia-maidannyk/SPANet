{
 "cells": [
  {
   "cell_type": "code",
   "execution_count": 2,
   "id": "dd4152a4",
   "metadata": {},
   "outputs": [],
   "source": [
    "# This notebook is for creating training and testing samples from all_jets_fullRun2_v1.parquet file"
   ]
  },
  {
   "cell_type": "code",
   "execution_count": 3,
   "id": "8c6d6770",
   "metadata": {},
   "outputs": [],
   "source": [
    "import awkward as ak\n",
    "import numba\n",
    "import numpy as np\n",
    "import pandas as pd\n",
    "import awkward as ak\n",
    "import h5py\n",
    "import vector\n",
    "vector.register_numba()\n",
    "vector.register_awkward()\n",
    "\n",
    "import matplotlib.pyplot as plt\n",
    "from matplotlib.colors import LogNorm\n",
    "import mplhep as hep\n",
    "hep.style.use(hep.style.ROOT)"
   ]
  },
  {
   "cell_type": "code",
   "execution_count": 4,
   "id": "6bc2ec75",
   "metadata": {},
   "outputs": [],
   "source": [
    "df = ak.from_parquet(\"/eos/user/d/dvalsecc/www/ttHbbAnalysis/training_dataset/all_jets_fullRun2_v1.parquet\")"
   ]
  },
  {
   "cell_type": "code",
   "execution_count": 5,
   "id": "adf95f99",
   "metadata": {},
   "outputs": [
    {
     "data": {
      "text/plain": [
       "<Array [{jets: [{pt: 68.7, ... m: 125}}] type='1414130 * {\"jets\": var * {\"pt\": f...'>"
      ]
     },
     "execution_count": 5,
     "metadata": {},
     "output_type": "execute_result"
    }
   ],
   "source": [
    "df"
   ]
  },
  {
   "cell_type": "code",
   "execution_count": 6,
   "id": "1d613d95",
   "metadata": {},
   "outputs": [],
   "source": [
    "(jets,_,_,_,_,_,_,_) = ak.unzip(df)"
   ]
  },
  {
   "cell_type": "code",
   "execution_count": 7,
   "id": "1713515c",
   "metadata": {},
   "outputs": [
    {
     "data": {
      "text/plain": [
       "<Array [[{pt: 68.7, eta: 0.853, ... prov: 1}]] type='1414130 * var * {\"pt\": floa...'>"
      ]
     },
     "execution_count": 7,
     "metadata": {},
     "output_type": "execute_result"
    }
   ],
   "source": [
    "jets"
   ]
  },
  {
   "cell_type": "code",
   "execution_count": 8,
   "id": "b56fa013",
   "metadata": {},
   "outputs": [
    {
     "data": {
      "text/plain": [
       "16"
      ]
     },
     "execution_count": 8,
     "metadata": {},
     "output_type": "execute_result"
    }
   ],
   "source": [
    "ak.max(ak.num(jets))"
   ]
  },
  {
   "cell_type": "code",
   "execution_count": 9,
   "id": "2443f6c5",
   "metadata": {},
   "outputs": [],
   "source": [
    "maxlen = int(np.ceil(0.8*len(jets)))\n",
    "test_jets = jets[maxlen:]\n",
    "train_jets = jets[:maxlen]"
   ]
  },
  {
   "cell_type": "code",
   "execution_count": 10,
   "id": "e101ac33",
   "metadata": {},
   "outputs": [
    {
     "data": {
      "text/plain": [
       "<Array [[{pt: 90.6, eta: 1.28, ... prov: 1}]] type='282826 * var * {\"pt\": float3...'>"
      ]
     },
     "execution_count": 10,
     "metadata": {},
     "output_type": "execute_result"
    }
   ],
   "source": [
    "test_jets"
   ]
  },
  {
   "cell_type": "code",
   "execution_count": 11,
   "id": "dec62fb5",
   "metadata": {},
   "outputs": [
    {
     "data": {
      "text/plain": [
       "<Array [[{pt: 68.7, eta: 0.853, ... prov: 3}]] type='1131304 * var * {\"pt\": floa...'>"
      ]
     },
     "execution_count": 11,
     "metadata": {},
     "output_type": "execute_result"
    }
   ],
   "source": [
    "train_jets"
   ]
  },
  {
   "cell_type": "code",
   "execution_count": 12,
   "id": "024e353a",
   "metadata": {},
   "outputs": [],
   "source": [
    "def create_groups(file):\n",
    "    file.create_group(\"TARGETS/t1\") # hadronic top -> q1 q2 b\n",
    "    file.create_group(\"TARGETS/t2\") # leptonic top -> b\n",
    "    file.create_group(\"TARGETS/h\") # higgs -> b1 b2\n",
    "    file.create_group(\"INPUTS\")\n",
    "    file.create_group(\"INPUTS/Source\")\n",
    "    return file"
   ]
  },
  {
   "cell_type": "code",
   "execution_count": 13,
   "id": "23396ed3",
   "metadata": {},
   "outputs": [],
   "source": [
    "def create_targets(file, particle, jets):\n",
    "    multiindex = ak.zip([ak.local_index(jets, i) for i in range(jets.ndim)])\n",
    "    \n",
    "    if particle == \"h\":\n",
    "        mask = jets.prov == 1 # H->b1b2\n",
    "        multiindex2 = multiindex[mask]\n",
    "        \n",
    "        b1_array = []\n",
    "        b2_array = []\n",
    "\n",
    "        for index,i in enumerate(multiindex2):\n",
    "            if len(i) == 0:\n",
    "                b1_array.append(-1)\n",
    "                b2_array.append(-1)\n",
    "            elif len(i) == 1:\n",
    "                b1_array.append(i[0].tolist()[1])\n",
    "                b2_array.append(-1)\n",
    "            elif len(i) == 2:\n",
    "                b1_array.append(i[0].tolist()[1])\n",
    "                b2_array.append(i[1].tolist()[1])\n",
    "        \n",
    "        file.create_dataset(\"TARGETS/h/b1\", np.shape(b1_array), dtype='int64', data=b1_array)\n",
    "        file.create_dataset(\"TARGETS/h/b2\", np.shape(b2_array), dtype='int64', data=b2_array)\n",
    "        \n",
    "    elif particle == \"t1\":\n",
    "        mask = jets.prov == 5 # W->q1q2 from t1\n",
    "        multiindex2 = multiindex[mask]\n",
    "        \n",
    "        q1_array = []\n",
    "        q2_array = []\n",
    "\n",
    "        for index,i in enumerate(multiindex2):\n",
    "            if len(i) == 0:\n",
    "                q1_array.append(-1)\n",
    "                q2_array.append(-1)\n",
    "            elif len(i) == 1:\n",
    "                q1_array.append(i[0].tolist()[1])\n",
    "                q2_array.append(-1)\n",
    "            elif len(i) == 2:\n",
    "                q1_array.append(i[0].tolist()[1])\n",
    "                q2_array.append(i[1].tolist()[1])\n",
    "                \n",
    "        mask = jets.prov == 2 # t1->Wb \n",
    "        multiindex2 = multiindex[mask]\n",
    "        \n",
    "        had_b_array = []\n",
    "\n",
    "        for index,i in enumerate(multiindex2):\n",
    "            if len(i) == 0:\n",
    "                had_b_array.append(-1)\n",
    "            elif len(i) == 1:\n",
    "                had_b_array.append(i[0].tolist()[1])\n",
    "                \n",
    "        file.create_dataset(\"TARGETS/t1/q1\", np.shape(q1_array), dtype='int64', data=q1_array)\n",
    "        file.create_dataset(\"TARGETS/t1/q2\", np.shape(q2_array), dtype='int64', data=q2_array)\n",
    "        file.create_dataset(\"TARGETS/t1/b\", np.shape(had_b_array), dtype='int64', data=had_b_array)\n",
    "                \n",
    "    elif particle == \"t2\":\n",
    "        mask = jets.prov == 3 # t2->b \n",
    "        multiindex2 = multiindex[mask]\n",
    "        \n",
    "        lep_b_array = []\n",
    "\n",
    "        for index,i in enumerate(multiindex2):\n",
    "            if len(i) == 0:\n",
    "                lep_b_array.append(-1)\n",
    "            elif len(i) == 1:\n",
    "                lep_b_array.append(i[0].tolist()[1])\n",
    "\n",
    "        file.create_dataset(\"TARGETS/t2/b\", np.shape(lep_b_array), dtype='int64', data=lep_b_array)"
   ]
  },
  {
   "cell_type": "code",
   "execution_count": 14,
   "id": "7de94391",
   "metadata": {},
   "outputs": [],
   "source": [
    "def create_inputs(file, jets):\n",
    "    pt_array = ak.to_numpy(ak.fill_none(ak.pad_none(jets.pt, 16, clip=True), 0))\n",
    "    mask = ~(pt_array == 0)\n",
    "    mask_ds = file.create_dataset(\"INPUTS/Source/MASK\", np.shape(mask), dtype='bool', data=mask)\n",
    "    pt_ds = file.create_dataset(\"INPUTS/Source/pt\", np.shape(pt_array), dtype='float32', data=pt_array)\n",
    "\n",
    "    phi_array = ak.to_numpy(ak.fill_none(ak.pad_none(jets.phi, 16, clip=True), 0))\n",
    "    phi_ds = file.create_dataset(\"INPUTS/Source/phi\", np.shape(phi_array), dtype='float32', data=phi_array)\n",
    "\n",
    "    eta_array = ak.to_numpy(ak.fill_none(ak.pad_none(jets.eta, 16, clip=True), 0))\n",
    "    eta_ds = file.create_dataset(\"INPUTS/Source/eta\", np.shape(eta_array), dtype='float32', data=eta_array)\n",
    "\n",
    "    btag = ak.to_numpy(ak.fill_none(ak.pad_none(jets.btag, 16, clip=True), 0))\n",
    "    btag_ds = file.create_dataset(\"INPUTS/Source/btag\", np.shape(btag), dtype='float32', data=btag)"
   ]
  },
  {
   "cell_type": "code",
   "execution_count": 15,
   "id": "7f84bb33",
   "metadata": {},
   "outputs": [],
   "source": [
    "# Prepare files for inputs and targets\n",
    "train_file = h5py.File(\"train.h5\", \"w\")\n",
    "test_file = h5py.File(\"test.h5\", \"w\")\n",
    "\n",
    "train_file = create_groups(train_file)\n",
    "test_file = create_groups(test_file)"
   ]
  },
  {
   "cell_type": "code",
   "execution_count": 16,
   "id": "b145e11f",
   "metadata": {},
   "outputs": [
    {
     "data": {
      "text/plain": [
       "[[(0, 0), (0, 1), (0, 2), (0, 3), (0, 4)],\n",
       " [(1, 0), (1, 1), (1, 2), (1, 3), (1, 4), (1, 5)]]"
      ]
     },
     "execution_count": 16,
     "metadata": {},
     "output_type": "execute_result"
    }
   ],
   "source": [
    "multiindex = ak.zip([ak.local_index(train_jets, i) for i in range(train_jets.ndim)])\n",
    "multiindex[0:2].tolist() # This is used in create_targets()"
   ]
  },
  {
   "cell_type": "code",
   "execution_count": 17,
   "id": "5335d004",
   "metadata": {},
   "outputs": [],
   "source": [
    "# Create target arrays in the files. This will take a few minutes\n",
    "create_targets(train_file, \"h\", train_jets)\n",
    "create_targets(train_file, \"t1\", train_jets)\n",
    "create_targets(train_file, \"t2\", train_jets)"
   ]
  },
  {
   "cell_type": "code",
   "execution_count": 18,
   "id": "88433a64",
   "metadata": {},
   "outputs": [],
   "source": [
    "create_targets(test_file, \"h\", test_jets)\n",
    "create_targets(test_file, \"t1\", test_jets)\n",
    "create_targets(test_file, \"t2\", test_jets)"
   ]
  },
  {
   "cell_type": "code",
   "execution_count": 19,
   "id": "9818ff59",
   "metadata": {},
   "outputs": [],
   "source": [
    "# Create input arrays in the files\n",
    "create_inputs(train_file, train_jets)\n",
    "create_inputs(test_file, test_jets)"
   ]
  },
  {
   "cell_type": "code",
   "execution_count": 20,
   "id": "2dfd112e",
   "metadata": {},
   "outputs": [],
   "source": [
    "train_file.close()\n",
    "test_file.close()"
   ]
  },
  {
   "cell_type": "code",
   "execution_count": null,
   "id": "1a9d4e02",
   "metadata": {},
   "outputs": [],
   "source": []
  }
 ],
 "metadata": {
  "@webio": {
   "lastCommId": null,
   "lastKernelId": null
  },
  "kernelspec": {
   "display_name": "Python 3",
   "language": "python",
   "name": "python3"
  },
  "language_info": {
   "codemirror_mode": {
    "name": "ipython",
    "version": 3
   },
   "file_extension": ".py",
   "mimetype": "text/x-python",
   "name": "python",
   "nbconvert_exporter": "python",
   "pygments_lexer": "ipython3",
   "version": "3.9.12"
  }
 },
 "nbformat": 4,
 "nbformat_minor": 5
}
