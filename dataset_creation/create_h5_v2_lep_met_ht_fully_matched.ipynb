{
 "cells": [
  {
   "cell_type": "code",
   "execution_count": 1,
   "id": "8fede7ba",
   "metadata": {},
   "outputs": [],
   "source": [
    "# This notebook is for creating a training sample and a separate testing sample\n",
    "# that includes lepton pt,eta,phi, met and ht from event \n",
    "# file all_jets_fullRun2_v1.parquet"
   ]
  },
  {
   "cell_type": "code",
   "execution_count": 2,
   "id": "e4654ba7",
   "metadata": {},
   "outputs": [],
   "source": [
    "import awkward as ak\n",
    "import numba\n",
    "import numpy as np\n",
    "import pandas as pd\n",
    "import awkward as ak\n",
    "import h5py\n",
    "import vector\n",
    "vector.register_numba()\n",
    "vector.register_awkward()\n",
    "\n",
    "import matplotlib.pyplot as plt\n",
    "from matplotlib.colors import LogNorm\n",
    "import mplhep as hep\n",
    "hep.style.use(hep.style.ROOT)"
   ]
  },
  {
   "cell_type": "code",
   "execution_count": 3,
   "id": "6bc2ec75",
   "metadata": {},
   "outputs": [],
   "source": [
    "df = ak.from_parquet(\"/eos/user/d/dvalsecc/www/ttHbbAnalysis/training_dataset/all_jets_fullRun2_v1.parquet\")"
   ]
  },
  {
   "cell_type": "code",
   "execution_count": 4,
   "id": "adf95f99",
   "metadata": {},
   "outputs": [
    {
     "data": {
      "text/plain": [
       "<Array [{jets: [{pt: 68.7, ... m: 125}}] type='1414130 * {\"jets\": var * {\"pt\": f...'>"
      ]
     },
     "execution_count": 4,
     "metadata": {},
     "output_type": "execute_result"
    }
   ],
   "source": [
    "df"
   ]
  },
  {
   "cell_type": "code",
   "execution_count": 5,
   "id": "1d613d95",
   "metadata": {},
   "outputs": [],
   "source": [
    "(jets,_,_,_,_,lepton_reco, met,_) = ak.unzip(df)\n",
    "jets = ak.with_name(jets, name=\"Momentum4D\")\n",
    "lepton_reco = ak.with_name(lepton_reco, name=\"Momentum4D\")\n",
    "met = ak.with_name(met, name=\"Momentum4D\")"
   ]
  },
  {
   "cell_type": "code",
   "execution_count": 6,
   "id": "1713515c",
   "metadata": {},
   "outputs": [
    {
     "data": {
      "text/plain": [
       "<MomentumArray4D [[{pt: 68.7, eta: 0.853, ... prov: 1}]] type='1414130 * var * M...'>"
      ]
     },
     "execution_count": 6,
     "metadata": {},
     "output_type": "execute_result"
    }
   ],
   "source": [
    "jets"
   ]
  },
  {
   "cell_type": "code",
   "execution_count": 7,
   "id": "18f36628",
   "metadata": {},
   "outputs": [],
   "source": [
    "maxlen = int(np.ceil(0.8*len(jets)))\n",
    "test_jets = jets[maxlen:]\n",
    "test_lep = lepton_reco[maxlen:]\n",
    "test_met = met[maxlen:]"
   ]
  },
  {
   "cell_type": "code",
   "execution_count": 8,
   "id": "528ffc3b",
   "metadata": {},
   "outputs": [],
   "source": [
    "def create_groups(file):\n",
    "    file.create_group(\"TARGETS/t1\") # hadronic top -> q1 q2 b\n",
    "    file.create_group(\"TARGETS/t2\") # leptonic top -> b\n",
    "    file.create_group(\"TARGETS/h\") # higgs -> b1 b2\n",
    "    file.create_group(\"INPUTS\")\n",
    "    file.create_group(\"INPUTS/Source\")\n",
    "    file.create_group(\"INPUTS/Lepton\")\n",
    "    file.create_group(\"INPUTS/Met\")\n",
    "    file.create_group(\"INPUTS/ht\")\n",
    "    return file\n",
    "\n",
    "def create_targets(file, particle, jets):\n",
    "    multiindex = ak.zip([ak.local_index(jets, i) for i in range(jets.ndim)])\n",
    "    \n",
    "    if particle == \"h\":\n",
    "        mask = jets.prov == 1 # H->b1b2\n",
    "        multiindex2 = multiindex[mask]\n",
    "        \n",
    "        b1_array = []\n",
    "        b2_array = []\n",
    "\n",
    "        for index,i in enumerate(multiindex2):\n",
    "            if len(i) == 0:\n",
    "                b1_array.append(-1)\n",
    "                b2_array.append(-1)\n",
    "            elif len(i) == 1:\n",
    "                b1_array.append(i[0].tolist()[1])\n",
    "                b2_array.append(-1)\n",
    "            elif len(i) == 2:\n",
    "                b1_array.append(i[0].tolist()[1])\n",
    "                b2_array.append(i[1].tolist()[1])\n",
    "        \n",
    "        file.create_dataset(\"TARGETS/h/b1\", np.shape(b1_array), dtype='int64', data=b1_array)\n",
    "        file.create_dataset(\"TARGETS/h/b2\", np.shape(b2_array), dtype='int64', data=b2_array)\n",
    "        \n",
    "    elif particle == \"t1\":\n",
    "        mask = jets.prov == 5 # W->q1q2 from t1\n",
    "        multiindex2 = multiindex[mask]\n",
    "        \n",
    "        q1_array = []\n",
    "        q2_array = []\n",
    "\n",
    "        for index,i in enumerate(multiindex2):\n",
    "            if len(i) == 0:\n",
    "                q1_array.append(-1)\n",
    "                q2_array.append(-1)\n",
    "            elif len(i) == 1:\n",
    "                q1_array.append(i[0].tolist()[1])\n",
    "                q2_array.append(-1)\n",
    "            elif len(i) == 2:\n",
    "                q1_array.append(i[0].tolist()[1])\n",
    "                q2_array.append(i[1].tolist()[1])\n",
    "                \n",
    "        mask = jets.prov == 2 # t1->Wb \n",
    "        multiindex2 = multiindex[mask]\n",
    "        \n",
    "        had_b_array = []\n",
    "\n",
    "        for index,i in enumerate(multiindex2):\n",
    "            if len(i) == 0:\n",
    "                had_b_array.append(-1)\n",
    "            elif len(i) == 1:\n",
    "                had_b_array.append(i[0].tolist()[1])\n",
    "                \n",
    "        file.create_dataset(\"TARGETS/t1/q1\", np.shape(q1_array), dtype='int64', data=q1_array)\n",
    "        file.create_dataset(\"TARGETS/t1/q2\", np.shape(q2_array), dtype='int64', data=q2_array)\n",
    "        file.create_dataset(\"TARGETS/t1/b\", np.shape(had_b_array), dtype='int64', data=had_b_array)\n",
    "                \n",
    "    elif particle == \"t2\":\n",
    "        mask = jets.prov == 3 # t2->b \n",
    "        multiindex2 = multiindex[mask]\n",
    "        \n",
    "        lep_b_array = []\n",
    "\n",
    "        for index,i in enumerate(multiindex2):\n",
    "            if len(i) == 0:\n",
    "                lep_b_array.append(-1)\n",
    "            elif len(i) == 1:\n",
    "                lep_b_array.append(i[0].tolist()[1])\n",
    "\n",
    "        file.create_dataset(\"TARGETS/t2/b\", np.shape(lep_b_array), dtype='int64', data=lep_b_array)\n",
    "        \n",
    "def create_inputs(file, jets, lep, met):\n",
    "    pt_array = ak.to_numpy(ak.fill_none(ak.pad_none(jets.pt, 16, clip=True), 0))\n",
    "    mask = ~(pt_array == 0)\n",
    "    mask_ds = file.create_dataset(\"INPUTS/Source/MASK\", np.shape(mask), dtype='bool', data=mask)\n",
    "    pt_ds = file.create_dataset(\"INPUTS/Source/pt\", np.shape(pt_array), dtype='float32', data=pt_array)\n",
    "\n",
    "    phi_array = ak.to_numpy(ak.fill_none(ak.pad_none(jets.phi, 16, clip=True), 0))\n",
    "    phi_ds = file.create_dataset(\"INPUTS/Source/phi\", np.shape(phi_array), dtype='float32', data=phi_array)\n",
    "\n",
    "    eta_array = ak.to_numpy(ak.fill_none(ak.pad_none(jets.eta, 16, clip=True), 0))\n",
    "    eta_ds = file.create_dataset(\"INPUTS/Source/eta\", np.shape(eta_array), dtype='float32', data=eta_array)\n",
    "\n",
    "    btag = ak.to_numpy(ak.fill_none(ak.pad_none(jets.btag, 16, clip=True), 0))\n",
    "    btag_ds = file.create_dataset(\"INPUTS/Source/btag\", np.shape(btag), dtype='float32', data=btag)\n",
    "    \n",
    "    # Fill Lepton\n",
    "    pt_array = ak.to_numpy(lep.pt)\n",
    "    pt_ds = file.create_dataset(\"INPUTS/Lepton/pt\", np.shape(pt_array), dtype='float32', data=pt_array)\n",
    "\n",
    "    phi_array = ak.to_numpy(lep.phi)\n",
    "    phi_ds = file.create_dataset(\"INPUTS/Lepton/phi\", np.shape(phi_array), dtype='float32', data=phi_array)\n",
    "\n",
    "    eta_array = ak.to_numpy(lep.eta)\n",
    "    eta_ds = file.create_dataset(\"INPUTS/Lepton/eta\", np.shape(eta_array), dtype='float32', data=eta_array)\n",
    "\n",
    "    # Fill Met\n",
    "    pt_array = ak.to_numpy(met.pt)\n",
    "    pt_ds = file.create_dataset(\"INPUTS/Met/pt\", np.shape(pt_array), dtype='float32', data=pt_array)\n",
    "\n",
    "    phi_array = ak.to_numpy(met.phi)\n",
    "    phi_ds = file.create_dataset(\"INPUTS/Met/phi\", np.shape(phi_array), dtype='float32', data=phi_array)\n",
    "\n",
    "    eta_array = ak.to_numpy(met.eta)\n",
    "    eta_ds = file.create_dataset(\"INPUTS/Met/eta\", np.shape(eta_array), dtype='float32', data=eta_array)\n",
    "\n",
    "    # Fill ht\n",
    "    pt_array = ak.to_numpy(ak.fill_none(ak.pad_none(jets.pt, 15, clip=True), 0))\n",
    "    ht_array = np.sum(pt_array, axis=1)\n",
    "    ht_ds = file.create_dataset(\"INPUTS/ht/ht\", np.shape(ht_array), dtype='float32', data=ht_array)"
   ]
  },
  {
   "cell_type": "code",
   "execution_count": 9,
   "id": "df45aae2",
   "metadata": {},
   "outputs": [],
   "source": [
    "mask_fullymatched = ak.sum(test_jets.matched == True, axis=1)>=6\n",
    "test_jets = test_jets[mask_fullymatched]"
   ]
  },
  {
   "cell_type": "code",
   "execution_count": 11,
   "id": "74fee3a4",
   "metadata": {},
   "outputs": [],
   "source": [
    "higgs = test_jets[test_jets.prov == 1]\n",
    "mask_match = ak.num(higgs) == 2\n",
    "\n",
    "w_or_t_jets = test_jets[(test_jets.prov == 5)|(test_jets.prov == 2)]\n",
    "mask_match = mask_match & (ak.num(w_or_t_jets) == 3)\n",
    "\n",
    "lep_top = test_jets[test_jets.prov == 3]\n",
    "mask_match = mask_match & (ak.num(lep_top) == 1)\n",
    "\n",
    "test_jets = test_jets[mask_match]"
   ]
  },
  {
   "cell_type": "code",
   "execution_count": 13,
   "id": "7f84bb33",
   "metadata": {},
   "outputs": [],
   "source": [
    "# Prepare files for inputs and targets\n",
    "test_file = h5py.File(\"test_lep_met_ht_matched.h5\", \"w\")\n",
    "test_file = create_groups(test_file)"
   ]
  },
  {
   "cell_type": "code",
   "execution_count": 14,
   "id": "6066dc46",
   "metadata": {},
   "outputs": [],
   "source": [
    "create_targets(test_file, \"h\", test_jets)\n",
    "create_targets(test_file, \"t1\", test_jets)\n",
    "create_targets(test_file, \"t2\", test_jets)"
   ]
  },
  {
   "cell_type": "code",
   "execution_count": 15,
   "id": "a44c364a",
   "metadata": {},
   "outputs": [],
   "source": [
    "# Create input arrays in the files\n",
    "create_inputs(test_file, test_jets, test_lep, test_met)"
   ]
  },
  {
   "cell_type": "code",
   "execution_count": 16,
   "id": "0a2a0e64",
   "metadata": {},
   "outputs": [],
   "source": [
    "test_file.close()"
   ]
  },
  {
   "cell_type": "code",
   "execution_count": null,
   "id": "556522ca",
   "metadata": {},
   "outputs": [],
   "source": []
  }
 ],
 "metadata": {
  "@webio": {
   "lastCommId": null,
   "lastKernelId": null
  },
  "kernelspec": {
   "display_name": "Python 3",
   "language": "python",
   "name": "python3"
  },
  "language_info": {
   "codemirror_mode": {
    "name": "ipython",
    "version": 3
   },
   "file_extension": ".py",
   "mimetype": "text/x-python",
   "name": "python",
   "nbconvert_exporter": "python",
   "pygments_lexer": "ipython3",
   "version": "3.9.12"
  }
 },
 "nbformat": 4,
 "nbformat_minor": 5
}
