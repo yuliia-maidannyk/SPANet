{
 "cells": [
  {
   "cell_type": "code",
   "execution_count": 37,
   "id": "ee5d3bf7",
   "metadata": {},
   "outputs": [],
   "source": [
    "# This notebook is for creating a sample of fully matched events from all_jets_fullRun2_v1.parquet"
   ]
  },
  {
   "cell_type": "code",
   "execution_count": null,
   "id": "f18e18c3",
   "metadata": {},
   "outputs": [],
   "source": [
    "import awkward as ak\n",
    "import numba\n",
    "import numpy as np\n",
    "import pandas as pd\n",
    "import awkward as ak\n",
    "import h5py\n",
    "import vector\n",
    "vector.register_numba()\n",
    "vector.register_awkward()\n",
    "\n",
    "import matplotlib.pyplot as plt\n",
    "from matplotlib.colors import LogNorm\n",
    "import mplhep as hep\n",
    "hep.style.use(hep.style.ROOT)"
   ]
  },
  {
   "cell_type": "code",
   "execution_count": 38,
   "id": "6bc2ec75",
   "metadata": {},
   "outputs": [
    {
     "data": {
      "text/plain": [
       "<Array [{jets: [{pt: 68.7, ... m: 125}}] type='1414130 * {\"jets\": var * {\"pt\": f...'>"
      ]
     },
     "execution_count": 38,
     "metadata": {},
     "output_type": "execute_result"
    }
   ],
   "source": [
    "df = ak.from_parquet(\"/eos/user/d/dvalsecc/www/ttHbbAnalysis/training_dataset/all_jets_fullRun2_v1.parquet\")\n",
    "df"
   ]
  },
  {
   "cell_type": "code",
   "execution_count": 39,
   "id": "1d613d95",
   "metadata": {},
   "outputs": [],
   "source": [
    "(jets,_,_,_,_,_,_,_) = ak.unzip(df)"
   ]
  },
  {
   "cell_type": "code",
   "execution_count": 40,
   "id": "1713515c",
   "metadata": {},
   "outputs": [
    {
     "data": {
      "text/plain": [
       "<Array [[{pt: 68.7, eta: 0.853, ... prov: 1}]] type='1414130 * var * {\"pt\": floa...'>"
      ]
     },
     "execution_count": 40,
     "metadata": {},
     "output_type": "execute_result"
    }
   ],
   "source": [
    "jets"
   ]
  },
  {
   "cell_type": "code",
   "execution_count": 41,
   "id": "b56fa013",
   "metadata": {},
   "outputs": [],
   "source": [
    "mask_fullymatched = ak.sum(jets.matched == True, axis=1)>=6\n",
    "jets = jets[mask_fullymatched]\n",
    "\n",
    "higgs = jets[jets.prov == 1]\n",
    "mask_match = ak.num(higgs) == 2\n",
    "\n",
    "w_or_t_jets = jets[(jets.prov == 5)|(jets.prov == 2)]\n",
    "mask_match = mask_match & (ak.num(w_or_t_jets) == 3)\n",
    "\n",
    "lep_top = jets[jets.prov == 3]\n",
    "mask_match = mask_match & (ak.num(lep_top) == 1)\n",
    "\n",
    "jets = jets[mask_match]"
   ]
  },
  {
   "cell_type": "code",
   "execution_count": 42,
   "id": "bed56248",
   "metadata": {},
   "outputs": [
    {
     "data": {
      "text/plain": [
       "<Array [[{pt: 145, eta: 1.5, ... prov: 1}]] type='159299 * var * {\"pt\": float32,...'>"
      ]
     },
     "execution_count": 42,
     "metadata": {},
     "output_type": "execute_result"
    }
   ],
   "source": [
    "jets"
   ]
  },
  {
   "cell_type": "code",
   "execution_count": 44,
   "id": "d1371901",
   "metadata": {},
   "outputs": [
    {
     "data": {
      "text/plain": [
       "16"
      ]
     },
     "execution_count": 44,
     "metadata": {},
     "output_type": "execute_result"
    }
   ],
   "source": [
    "ak.max(ak.num(jets))"
   ]
  },
  {
   "cell_type": "code",
   "execution_count": 45,
   "id": "7f84bb33",
   "metadata": {},
   "outputs": [],
   "source": [
    "output_file = h5py.File(\"fulltth_matched.h5\", \"w\")"
   ]
  },
  {
   "cell_type": "code",
   "execution_count": 46,
   "id": "521f9028",
   "metadata": {},
   "outputs": [],
   "source": [
    "t1 = output_file.create_group(\"TARGETS/t1\") # hadronic top -> q1 q2 b\n",
    "t2 = output_file.create_group(\"TARGETS/t2\") # leptonic top -> b\n",
    "h = output_file.create_group(\"TARGETS/h\") # higgs -> b1 b2"
   ]
  },
  {
   "cell_type": "code",
   "execution_count": 47,
   "id": "b145e11f",
   "metadata": {},
   "outputs": [],
   "source": [
    "multiindex = ak.zip([ak.local_index(jets, i) for i in range(jets.ndim)])"
   ]
  },
  {
   "cell_type": "code",
   "execution_count": 48,
   "id": "80a36235",
   "metadata": {},
   "outputs": [
    {
     "data": {
      "text/plain": [
       "[[(0, 0), (0, 1), (0, 2), (0, 3), (0, 4), (0, 5)],\n",
       " [(1, 0), (1, 1), (1, 2), (1, 3), (1, 4), (1, 5), (1, 6)]]"
      ]
     },
     "execution_count": 48,
     "metadata": {},
     "output_type": "execute_result"
    }
   ],
   "source": [
    "multiindex[0:2].tolist()"
   ]
  },
  {
   "cell_type": "markdown",
   "id": "0ae601d3",
   "metadata": {},
   "source": [
    "# Create arrays for H-> b1 b2"
   ]
  },
  {
   "cell_type": "code",
   "execution_count": 49,
   "id": "8b1184a7",
   "metadata": {},
   "outputs": [],
   "source": [
    "mask = jets.prov == 1"
   ]
  },
  {
   "cell_type": "code",
   "execution_count": 50,
   "id": "a360d0fb",
   "metadata": {},
   "outputs": [],
   "source": [
    "multiindex2 = multiindex[mask]"
   ]
  },
  {
   "cell_type": "code",
   "execution_count": 51,
   "id": "e46a61ad",
   "metadata": {},
   "outputs": [
    {
     "data": {
      "text/plain": [
       "[[(0, 1), (0, 5)],\n",
       " [(1, 2), (1, 4)],\n",
       " [(2, 1), (2, 4)],\n",
       " [(3, 0), (3, 4)],\n",
       " [(4, 0), (4, 4)]]"
      ]
     },
     "execution_count": 51,
     "metadata": {},
     "output_type": "execute_result"
    }
   ],
   "source": [
    "multiindex2[0:5].tolist()"
   ]
  },
  {
   "cell_type": "code",
   "execution_count": 52,
   "id": "648e284f",
   "metadata": {},
   "outputs": [
    {
     "data": {
      "text/plain": [
       "<Array [[(0, 1), (0, 5), ... 1), (159298, 5)]] type='159299 * var * (int64, int64)'>"
      ]
     },
     "execution_count": 52,
     "metadata": {},
     "output_type": "execute_result"
    }
   ],
   "source": [
    "multiindex2"
   ]
  },
  {
   "cell_type": "code",
   "execution_count": 53,
   "id": "5a19b3cc",
   "metadata": {},
   "outputs": [],
   "source": [
    "b1_array = []\n",
    "b2_array = []\n",
    "\n",
    "for index,i in enumerate(multiindex2):\n",
    "    b1_array.append(i[0].tolist()[1])\n",
    "    b2_array.append(i[1].tolist()[1])"
   ]
  },
  {
   "cell_type": "markdown",
   "id": "a2acf71f",
   "metadata": {},
   "source": [
    "# Create arrays for t1 -> q1 q2 b"
   ]
  },
  {
   "cell_type": "code",
   "execution_count": 54,
   "id": "064b24f3",
   "metadata": {},
   "outputs": [],
   "source": [
    "mask = jets.prov == 5 # W->q1&q2 from t1"
   ]
  },
  {
   "cell_type": "code",
   "execution_count": 55,
   "id": "c268a5dd",
   "metadata": {},
   "outputs": [],
   "source": [
    "multiindex2 = multiindex[mask]"
   ]
  },
  {
   "cell_type": "code",
   "execution_count": 56,
   "id": "9fe12c9c",
   "metadata": {},
   "outputs": [],
   "source": [
    "q1_array = []\n",
    "q2_array = []\n",
    "\n",
    "for index,i in enumerate(multiindex2):\n",
    "    q1_array.append(i[0].tolist()[1])\n",
    "    q2_array.append(i[1].tolist()[1])"
   ]
  },
  {
   "cell_type": "code",
   "execution_count": 57,
   "id": "1cb7af47",
   "metadata": {},
   "outputs": [],
   "source": [
    "mask = jets.prov == 2 # t1->Wb "
   ]
  },
  {
   "cell_type": "code",
   "execution_count": 58,
   "id": "85d92216",
   "metadata": {},
   "outputs": [],
   "source": [
    "multiindex2 = multiindex[mask]"
   ]
  },
  {
   "cell_type": "code",
   "execution_count": 59,
   "id": "23f31cd5",
   "metadata": {},
   "outputs": [],
   "source": [
    "had_b_array = []\n",
    "\n",
    "for index,i in enumerate(multiindex2):\n",
    "    had_b_array.append(i[0].tolist()[1])\n"
   ]
  },
  {
   "cell_type": "markdown",
   "id": "4f4e8d24",
   "metadata": {},
   "source": [
    "# Create arrays for t2 -> b"
   ]
  },
  {
   "cell_type": "code",
   "execution_count": 60,
   "id": "5f0eb21a",
   "metadata": {},
   "outputs": [],
   "source": [
    "mask = jets.prov == 3 # t2->b "
   ]
  },
  {
   "cell_type": "code",
   "execution_count": 61,
   "id": "5c9210cf",
   "metadata": {},
   "outputs": [],
   "source": [
    "multiindex2 = multiindex[mask]"
   ]
  },
  {
   "cell_type": "code",
   "execution_count": 62,
   "id": "a6a4c641",
   "metadata": {},
   "outputs": [],
   "source": [
    "lep_b_array = []\n",
    "\n",
    "for index,i in enumerate(multiindex2):\n",
    "    lep_b_array.append(i[0].tolist()[1])\n"
   ]
  },
  {
   "cell_type": "code",
   "execution_count": 63,
   "id": "0b1d88ff",
   "metadata": {},
   "outputs": [],
   "source": [
    "t1_q1 = output_file.create_dataset(\"TARGETS/t1/q1\", np.shape(q1_array), dtype='int64', data=q1_array)\n",
    "t1_q2 = output_file.create_dataset(\"TARGETS/t1/q2\", np.shape(q2_array), dtype='int64', data=q2_array)\n",
    "t1_b = output_file.create_dataset(\"TARGETS/t1/b\", np.shape(had_b_array), dtype='int64', data=had_b_array)\n",
    "\n",
    "t2_b = output_file.create_dataset(\"TARGETS/t2/b\", np.shape(lep_b_array), dtype='int64', data=lep_b_array)\n",
    "\n",
    "h_b1 = output_file.create_dataset(\"TARGETS/h/b1\", np.shape(b1_array), dtype='int64', data=b1_array)\n",
    "h_b2 = output_file.create_dataset(\"TARGETS/h/b2\", np.shape(b2_array), dtype='int64', data=b2_array)"
   ]
  },
  {
   "cell_type": "code",
   "execution_count": 64,
   "id": "2b1febea",
   "metadata": {},
   "outputs": [],
   "source": [
    "inputs = output_file.create_group(\"INPUTS\")\n",
    "source = output_file.create_group(\"INPUTS/Source\")\n",
    "\n",
    "pt_array = ak.to_numpy(ak.fill_none(ak.pad_none(jets.pt, 16, clip=True), 0))\n",
    "mask = ~(pt_array == 0)\n",
    "mask_ds = output_file.create_dataset(\"INPUTS/Source/MASK\", np.shape(mask), dtype='bool', data=mask)\n",
    "pt_ds = output_file.create_dataset(\"INPUTS/Source/pt\", np.shape(pt_array), dtype='float32', data=pt_array)\n",
    "\n",
    "phi_array = ak.to_numpy(ak.fill_none(ak.pad_none(jets.phi, 16, clip=True), 0))\n",
    "phi_ds = output_file.create_dataset(\"INPUTS/Source/phi\", np.shape(phi_array), dtype='float32', data=phi_array)\n",
    "\n",
    "eta_array = ak.to_numpy(ak.fill_none(ak.pad_none(jets.eta, 16, clip=True), 0))\n",
    "eta_ds = output_file.create_dataset(\"INPUTS/Source/eta\", np.shape(eta_array), dtype='float32', data=eta_array)\n",
    "\n",
    "btag = ak.to_numpy(ak.fill_none(ak.pad_none(jets.btag, 16, clip=True), 0))\n",
    "btag_ds = output_file.create_dataset(\"INPUTS/Source/btag\", np.shape(btag), dtype='float32', data=btag)\n"
   ]
  },
  {
   "cell_type": "code",
   "execution_count": 65,
   "id": "2dfd112e",
   "metadata": {},
   "outputs": [],
   "source": [
    "output_file.close()"
   ]
  },
  {
   "cell_type": "code",
   "execution_count": 66,
   "id": "6cf80c0e",
   "metadata": {},
   "outputs": [
    {
     "data": {
      "text/plain": [
       "[[5.0, 1.0, 5.0, 3.0, 2.0, 1.0],\n",
       " [5.0, 4.0, 1.0, 3.0, 1.0, 2.0, 5.0],\n",
       " [2.0, 1.0, 5.0, 3.0, 1.0, 5.0],\n",
       " [1.0, 5.0, 5.0, 3.0, 1.0, 2.0],\n",
       " [1.0, 2.0, 5.0, 3.0, 1.0, 5.0, -1.0],\n",
       " [1.0, 3.0, 5.0, 1.0, 5.0, 2.0],\n",
       " [2.0, 4.0, 5.0, 5.0, 1.0, 3.0, 1.0],\n",
       " [1.0, 5.0, 2.0, 3.0, 5.0, 1.0, 4.0],\n",
       " [1.0, 5.0, 3.0, 2.0, 5.0, 1.0],\n",
       " [2.0, 5.0, 1.0, 5.0, 3.0, 1.0, 4.0, -1.0],\n",
       " [2.0, 1.0, 5.0, 5.0, 3.0, 1.0, 4.0],\n",
       " [1.0, 2.0, 3.0, 1.0, 5.0, 5.0],\n",
       " [1.0, 2.0, 5.0, 5.0, 3.0, 1.0],\n",
       " [4.0, 2.0, 3.0, 5.0, 5.0, 1.0, -1.0, 1.0, -1.0, -1.0],\n",
       " [2.0, 5.0, 1.0, 3.0, 1.0, 5.0],\n",
       " [5.0, 1.0, 5.0, 3.0, 2.0, 1.0],\n",
       " [1.0, 1.0, 5.0, 2.0, 5.0, 3.0],\n",
       " [5.0, 5.0, 1.0, 1.0, 3.0, 2.0],\n",
       " [1.0, 4.0, 2.0, 5.0, 3.0, 5.0, 1.0],\n",
       " [2.0, 3.0, 5.0, 5.0, 1.0, 1.0]]"
      ]
     },
     "execution_count": 66,
     "metadata": {},
     "output_type": "execute_result"
    }
   ],
   "source": [
    "jets.prov[0:20].tolist()"
   ]
  },
  {
   "cell_type": "code",
   "execution_count": null,
   "id": "ddf9e181",
   "metadata": {},
   "outputs": [],
   "source": []
  }
 ],
 "metadata": {
  "kernelspec": {
   "display_name": "Python 3",
   "language": "python",
   "name": "python3"
  },
  "language_info": {
   "codemirror_mode": {
    "name": "ipython",
    "version": 3
   },
   "file_extension": ".py",
   "mimetype": "text/x-python",
   "name": "python",
   "nbconvert_exporter": "python",
   "pygments_lexer": "ipython3",
   "version": "3.9.12"
  }
 },
 "nbformat": 4,
 "nbformat_minor": 5
}
